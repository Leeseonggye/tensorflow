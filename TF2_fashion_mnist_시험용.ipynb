{
  "nbformat": 4,
  "nbformat_minor": 0,
  "metadata": {
    "colab": {
      "name": "TF2-fashion-mnist (문제)의 사본",
      "provenance": [],
      "collapsed_sections": [],
      "include_colab_link": true
    },
    "kernelspec": {
      "name": "python3",
      "display_name": "Python 3"
    },
    "accelerator": "GPU"
  },
  "cells": [
    {
      "cell_type": "markdown",
      "metadata": {
        "id": "view-in-github",
        "colab_type": "text"
      },
      "source": [
        "<a href=\"https://colab.research.google.com/github/Leeseonggye/tensorflow/blob/main/TF2_fashion_mnist_%EC%8B%9C%ED%97%98%EC%9A%A9.ipynb\" target=\"_parent\"><img src=\"https://colab.research.google.com/assets/colab-badge.svg\" alt=\"Open In Colab\"/></a>"
      ]
    },
    {
      "cell_type": "code",
      "metadata": {
        "id": "A7c60mMUFXpm"
      },
      "source": [
        "# ======================================================================\n",
        "# There are 5 questions in this test with increasing difficulty from 1-5\n",
        "# Please note that the weight of the grade for the question is relative\n",
        "# to its difficulty. So your Category 1 question will score much less\n",
        "# than your Category 5 question.\n",
        "# ======================================================================\n",
        "#\n",
        "# Basic Datasets Question\n",
        "#\n",
        "# Create a classifier for the Fashion MNIST dataset\n",
        "# Note that the test will expect it to classify 10 classes and that the \n",
        "# input shape should be the native size of the Fashion MNIST dataset which is \n",
        "# 28x28 monochrome. Do not resize the data. YOur input layer should accept\n",
        "# (28,28) as the input shape only. If you amend this, the tests will fail.\n",
        "#\n",
        "\n",
        "# =========== 합격 기준 가이드라인 공유 ============= #\n",
        "# val_loss 기준에 맞춰 주시는 것이 훨씬 더 중요 #\n",
        "# val_loss 보다 조금 높아도 상관없음. (언저리까지 OK) #\n",
        "# =================================================== #\n",
        "# 문제명: Category 2 - fashion mnist\n",
        "# val_loss: 0.33\n",
        "# val_acc: 0.89\n",
        "# =================================================== #\n",
        "# =================================================== #\n",
        "\n",
        "\n",
        "\n",
        "import tensorflow as tf\n",
        "\n",
        "\n",
        "def solution_model():\n",
        "    fashion_mnist = tf.keras.datasets.fashion_mnist\n",
        "    \n",
        "\n",
        "    # YOUR CODE HERE\n",
        "\n",
        "\n",
        "    \n",
        "    return model\n",
        "\n",
        "\n",
        "# Note that you'll need to save your model as a .h5 like this\n",
        "# This .h5 will be uploaded to the testing infrastructure\n",
        "# and a score will be returned to you\n",
        "if __name__ == '__main__':\n",
        "    model = solution_model()\n",
        "    model.save(\"TF2-fashion-mnist.h5\")\n"
      ],
      "execution_count": null,
      "outputs": []
    },
    {
      "cell_type": "code",
      "metadata": {
        "id": "Es9_3bUkUqtM"
      },
      "source": [
        "import tensorflow as tf\n",
        "from tensorflow.keras.layers import Dense, Flatten\n",
        "from tensorflow.keras.models import Sequential\n",
        "from tensorflow.keras.callbacks import ModelCheckpoint"
      ],
      "execution_count": 1,
      "outputs": []
    },
    {
      "cell_type": "code",
      "metadata": {
        "id": "CXXidX3ZUqzo"
      },
      "source": [
        "fashion_mnist = tf.keras.datasets.fashion_mnist"
      ],
      "execution_count": 2,
      "outputs": []
    },
    {
      "cell_type": "code",
      "metadata": {
        "colab": {
          "base_uri": "https://localhost:8080/"
        },
        "id": "C1gcPVDXVIrt",
        "outputId": "c099c33f-941b-4840-c7ca-7f72184b3193"
      },
      "source": [
        "(x_train,y_train),(x_valid,y_valid) = fashion_mnist.load_data()"
      ],
      "execution_count": 3,
      "outputs": [
        {
          "output_type": "stream",
          "text": [
            "Downloading data from https://storage.googleapis.com/tensorflow/tf-keras-datasets/train-labels-idx1-ubyte.gz\n",
            "32768/29515 [=================================] - 0s 0us/step\n",
            "40960/29515 [=========================================] - 0s 0us/step\n",
            "Downloading data from https://storage.googleapis.com/tensorflow/tf-keras-datasets/train-images-idx3-ubyte.gz\n",
            "26427392/26421880 [==============================] - 0s 0us/step\n",
            "26435584/26421880 [==============================] - 0s 0us/step\n",
            "Downloading data from https://storage.googleapis.com/tensorflow/tf-keras-datasets/t10k-labels-idx1-ubyte.gz\n",
            "16384/5148 [===============================================================================================] - 0s 0us/step\n",
            "Downloading data from https://storage.googleapis.com/tensorflow/tf-keras-datasets/t10k-images-idx3-ubyte.gz\n",
            "4423680/4422102 [==============================] - 0s 0us/step\n",
            "4431872/4422102 [==============================] - 0s 0us/step\n"
          ],
          "name": "stdout"
        }
      ]
    },
    {
      "cell_type": "code",
      "metadata": {
        "id": "fGN1l1jyUq7d"
      },
      "source": [
        "# Note that you'll need to save your model as a .h5 like this\n",
        "# This .h5 will be uploaded to the testing infrastructure\n",
        "# and a score will be returned to you\n",
        "if __name__ == '__main__':\n",
        "    model = solution_model()\n",
        "    model.save(\"TF2-fashion-mnist.h5\")\n"
      ],
      "execution_count": null,
      "outputs": []
    },
    {
      "cell_type": "code",
      "metadata": {
        "colab": {
          "base_uri": "https://localhost:8080/"
        },
        "id": "Ft2G_6ciVRrT",
        "outputId": "1650ff61-d3c8-43ea-8c26-ad4f840e21ba"
      },
      "source": [
        "x_train.shape,y_train.shape,x_valid.shape,y_valid.shape"
      ],
      "execution_count": 5,
      "outputs": [
        {
          "output_type": "execute_result",
          "data": {
            "text/plain": [
              "((60000, 28, 28), (60000,), (10000, 28, 28), (10000,))"
            ]
          },
          "metadata": {},
          "execution_count": 5
        }
      ]
    },
    {
      "cell_type": "code",
      "metadata": {
        "colab": {
          "base_uri": "https://localhost:8080/"
        },
        "id": "ZK3LL0DdVYVr",
        "outputId": "a2896976-da25-4ca2-bf45-be1dd4e5f0ae"
      },
      "source": [
        "x_train.max(), x_train.min()"
      ],
      "execution_count": 7,
      "outputs": [
        {
          "output_type": "execute_result",
          "data": {
            "text/plain": [
              "(255, 0)"
            ]
          },
          "metadata": {},
          "execution_count": 7
        }
      ]
    },
    {
      "cell_type": "code",
      "metadata": {
        "colab": {
          "base_uri": "https://localhost:8080/"
        },
        "id": "tjdHGv36V-3x",
        "outputId": "1bca08dd-3c26-4c84-ab59-d580a10f4387"
      },
      "source": [
        "y_train.max(), y_train.min()"
      ],
      "execution_count": 9,
      "outputs": [
        {
          "output_type": "execute_result",
          "data": {
            "text/plain": [
              "(9, 0)"
            ]
          },
          "metadata": {},
          "execution_count": 9
        }
      ]
    },
    {
      "cell_type": "code",
      "metadata": {
        "id": "PuClhNeMVew8"
      },
      "source": [
        "x_train = x_train/255\n",
        "x_valid = x_valid/255"
      ],
      "execution_count": 8,
      "outputs": []
    },
    {
      "cell_type": "code",
      "metadata": {
        "id": "uNfALxcSVm6y"
      },
      "source": [
        "model = Sequential([\n",
        "                    Flatten(input_shape = (28,28)),\n",
        "                    Dense(1024, activation= 'relu'),\n",
        "                    Dense(512, activation= 'relu'),\n",
        "                    Dense(256, activation= 'relu'),\n",
        "                    Dense(128, activation= 'relu'),\n",
        "                    Dense(10, activation= 'softmax'),\n",
        "\n",
        "])"
      ],
      "execution_count": 27,
      "outputs": []
    },
    {
      "cell_type": "code",
      "metadata": {
        "colab": {
          "base_uri": "https://localhost:8080/"
        },
        "id": "0T_90liBVtZa",
        "outputId": "b33dda3f-5eaf-45b0-e6ac-d75f82f3b9f0"
      },
      "source": [
        "model.summary()"
      ],
      "execution_count": 28,
      "outputs": [
        {
          "output_type": "stream",
          "text": [
            "Model: \"sequential_3\"\n",
            "_________________________________________________________________\n",
            "Layer (type)                 Output Shape              Param #   \n",
            "=================================================================\n",
            "flatten_3 (Flatten)          (None, 784)               0         \n",
            "_________________________________________________________________\n",
            "dense_16 (Dense)             (None, 1024)              803840    \n",
            "_________________________________________________________________\n",
            "dense_17 (Dense)             (None, 512)               524800    \n",
            "_________________________________________________________________\n",
            "dense_18 (Dense)             (None, 256)               131328    \n",
            "_________________________________________________________________\n",
            "dense_19 (Dense)             (None, 128)               32896     \n",
            "_________________________________________________________________\n",
            "dense_20 (Dense)             (None, 10)                1290      \n",
            "=================================================================\n",
            "Total params: 1,494,154\n",
            "Trainable params: 1,494,154\n",
            "Non-trainable params: 0\n",
            "_________________________________________________________________\n"
          ],
          "name": "stdout"
        }
      ]
    },
    {
      "cell_type": "code",
      "metadata": {
        "id": "tUwS2iugVtcI"
      },
      "source": [
        "checkpoint_path = 'mycheckpoint.ckpt'\n",
        "checkpoint = ModelCheckpoint(checkpoint_path, save_best_only=True, save_weights_only= True, monitor = 'val_loss', verbose = 1)\n",
        "                             "
      ],
      "execution_count": 29,
      "outputs": []
    },
    {
      "cell_type": "code",
      "metadata": {
        "id": "pgnKi8YnWm4F"
      },
      "source": [
        "model.compile(optimizer='adam', loss = 'sparse_categorical_crossentropy', metrics= ['acc'])"
      ],
      "execution_count": 30,
      "outputs": []
    },
    {
      "cell_type": "code",
      "metadata": {
        "colab": {
          "base_uri": "https://localhost:8080/"
        },
        "id": "4fO2dZQGWm_c",
        "outputId": "89494baf-f1d9-486c-d1be-734fd72e610e"
      },
      "source": [
        "model.fit(x_train, y_train, validation_data= (x_valid, y_valid), verbose=1, epochs = 30, callbacks= [checkpoint])"
      ],
      "execution_count": 31,
      "outputs": [
        {
          "output_type": "stream",
          "text": [
            "Epoch 1/30\n",
            "1875/1875 [==============================] - 5s 3ms/step - loss: 0.4916 - acc: 0.8187 - val_loss: 0.4262 - val_acc: 0.8480\n",
            "\n",
            "Epoch 00001: val_loss improved from inf to 0.42621, saving model to mycheckpoint.ckpt\n",
            "Epoch 2/30\n",
            "1875/1875 [==============================] - 5s 3ms/step - loss: 0.3686 - acc: 0.8649 - val_loss: 0.3869 - val_acc: 0.8637\n",
            "\n",
            "Epoch 00002: val_loss improved from 0.42621 to 0.38687, saving model to mycheckpoint.ckpt\n",
            "Epoch 3/30\n",
            "1875/1875 [==============================] - 5s 3ms/step - loss: 0.3342 - acc: 0.8769 - val_loss: 0.3660 - val_acc: 0.8693\n",
            "\n",
            "Epoch 00003: val_loss improved from 0.38687 to 0.36600, saving model to mycheckpoint.ckpt\n",
            "Epoch 4/30\n",
            "1875/1875 [==============================] - 5s 2ms/step - loss: 0.3120 - acc: 0.8849 - val_loss: 0.3529 - val_acc: 0.8734\n",
            "\n",
            "Epoch 00004: val_loss improved from 0.36600 to 0.35294, saving model to mycheckpoint.ckpt\n",
            "Epoch 5/30\n",
            "1875/1875 [==============================] - 5s 3ms/step - loss: 0.2925 - acc: 0.8905 - val_loss: 0.3449 - val_acc: 0.8789\n",
            "\n",
            "Epoch 00005: val_loss improved from 0.35294 to 0.34494, saving model to mycheckpoint.ckpt\n",
            "Epoch 6/30\n",
            "1875/1875 [==============================] - 5s 2ms/step - loss: 0.2777 - acc: 0.8968 - val_loss: 0.3508 - val_acc: 0.8787\n",
            "\n",
            "Epoch 00006: val_loss did not improve from 0.34494\n",
            "Epoch 7/30\n",
            "1875/1875 [==============================] - 5s 3ms/step - loss: 0.2641 - acc: 0.9015 - val_loss: 0.3385 - val_acc: 0.8809\n",
            "\n",
            "Epoch 00007: val_loss improved from 0.34494 to 0.33847, saving model to mycheckpoint.ckpt\n",
            "Epoch 8/30\n",
            "1875/1875 [==============================] - 5s 3ms/step - loss: 0.2537 - acc: 0.9059 - val_loss: 0.3460 - val_acc: 0.8794\n",
            "\n",
            "Epoch 00008: val_loss did not improve from 0.33847\n",
            "Epoch 9/30\n",
            "1875/1875 [==============================] - 5s 2ms/step - loss: 0.2402 - acc: 0.9093 - val_loss: 0.3644 - val_acc: 0.8733\n",
            "\n",
            "Epoch 00009: val_loss did not improve from 0.33847\n",
            "Epoch 10/30\n",
            "1875/1875 [==============================] - 5s 3ms/step - loss: 0.2367 - acc: 0.9109 - val_loss: 0.3611 - val_acc: 0.8823\n",
            "\n",
            "Epoch 00010: val_loss did not improve from 0.33847\n",
            "Epoch 11/30\n",
            "1875/1875 [==============================] - 5s 2ms/step - loss: 0.2251 - acc: 0.9154 - val_loss: 0.3287 - val_acc: 0.8913\n",
            "\n",
            "Epoch 00011: val_loss improved from 0.33847 to 0.32872, saving model to mycheckpoint.ckpt\n",
            "Epoch 12/30\n",
            "1875/1875 [==============================] - 5s 3ms/step - loss: 0.2226 - acc: 0.9164 - val_loss: 0.3548 - val_acc: 0.8883\n",
            "\n",
            "Epoch 00012: val_loss did not improve from 0.32872\n",
            "Epoch 13/30\n",
            "1875/1875 [==============================] - 5s 2ms/step - loss: 0.2128 - acc: 0.9200 - val_loss: 0.4046 - val_acc: 0.8838\n",
            "\n",
            "Epoch 00013: val_loss did not improve from 0.32872\n",
            "Epoch 14/30\n",
            "1875/1875 [==============================] - 5s 3ms/step - loss: 0.2077 - acc: 0.9210 - val_loss: 0.3535 - val_acc: 0.8861\n",
            "\n",
            "Epoch 00014: val_loss did not improve from 0.32872\n",
            "Epoch 15/30\n",
            "1875/1875 [==============================] - 5s 2ms/step - loss: 0.2022 - acc: 0.9238 - val_loss: 0.4244 - val_acc: 0.8744\n",
            "\n",
            "Epoch 00015: val_loss did not improve from 0.32872\n",
            "Epoch 16/30\n",
            "1875/1875 [==============================] - 5s 3ms/step - loss: 0.2004 - acc: 0.9249 - val_loss: 0.3516 - val_acc: 0.8884\n",
            "\n",
            "Epoch 00016: val_loss did not improve from 0.32872\n",
            "Epoch 17/30\n",
            "1875/1875 [==============================] - 5s 2ms/step - loss: 0.1904 - acc: 0.9280 - val_loss: 0.3725 - val_acc: 0.8873\n",
            "\n",
            "Epoch 00017: val_loss did not improve from 0.32872\n",
            "Epoch 18/30\n",
            "1875/1875 [==============================] - 5s 3ms/step - loss: 0.1855 - acc: 0.9289 - val_loss: 0.4179 - val_acc: 0.8890\n",
            "\n",
            "Epoch 00018: val_loss did not improve from 0.32872\n",
            "Epoch 19/30\n",
            "1875/1875 [==============================] - 5s 3ms/step - loss: 0.1808 - acc: 0.9312 - val_loss: 0.3719 - val_acc: 0.8885\n",
            "\n",
            "Epoch 00019: val_loss did not improve from 0.32872\n",
            "Epoch 20/30\n",
            "1875/1875 [==============================] - 5s 3ms/step - loss: 0.1763 - acc: 0.9332 - val_loss: 0.3667 - val_acc: 0.8943\n",
            "\n",
            "Epoch 00020: val_loss did not improve from 0.32872\n",
            "Epoch 21/30\n",
            "1875/1875 [==============================] - 5s 2ms/step - loss: 0.1753 - acc: 0.9344 - val_loss: 0.3827 - val_acc: 0.8915\n",
            "\n",
            "Epoch 00021: val_loss did not improve from 0.32872\n",
            "Epoch 22/30\n",
            "1875/1875 [==============================] - 4s 2ms/step - loss: 0.1671 - acc: 0.9373 - val_loss: 0.4240 - val_acc: 0.8906\n",
            "\n",
            "Epoch 00022: val_loss did not improve from 0.32872\n",
            "Epoch 23/30\n",
            "1875/1875 [==============================] - 5s 2ms/step - loss: 0.1665 - acc: 0.9365 - val_loss: 0.4341 - val_acc: 0.8895\n",
            "\n",
            "Epoch 00023: val_loss did not improve from 0.32872\n",
            "Epoch 24/30\n",
            "1875/1875 [==============================] - 5s 2ms/step - loss: 0.1620 - acc: 0.9385 - val_loss: 0.4591 - val_acc: 0.8893\n",
            "\n",
            "Epoch 00024: val_loss did not improve from 0.32872\n",
            "Epoch 25/30\n",
            "1875/1875 [==============================] - 5s 3ms/step - loss: 0.1610 - acc: 0.9389 - val_loss: 0.4143 - val_acc: 0.8983\n",
            "\n",
            "Epoch 00025: val_loss did not improve from 0.32872\n",
            "Epoch 26/30\n",
            "1875/1875 [==============================] - 5s 2ms/step - loss: 0.1525 - acc: 0.9415 - val_loss: 0.4635 - val_acc: 0.8980\n",
            "\n",
            "Epoch 00026: val_loss did not improve from 0.32872\n",
            "Epoch 27/30\n",
            "1875/1875 [==============================] - 5s 2ms/step - loss: 0.1546 - acc: 0.9414 - val_loss: 0.4697 - val_acc: 0.8944\n",
            "\n",
            "Epoch 00027: val_loss did not improve from 0.32872\n",
            "Epoch 28/30\n",
            "1875/1875 [==============================] - 5s 2ms/step - loss: 0.1485 - acc: 0.9431 - val_loss: 0.4463 - val_acc: 0.8909\n",
            "\n",
            "Epoch 00028: val_loss did not improve from 0.32872\n",
            "Epoch 29/30\n",
            "1875/1875 [==============================] - 4s 2ms/step - loss: 0.1524 - acc: 0.9428 - val_loss: 0.4655 - val_acc: 0.8946\n",
            "\n",
            "Epoch 00029: val_loss did not improve from 0.32872\n",
            "Epoch 30/30\n",
            "1875/1875 [==============================] - 5s 2ms/step - loss: 0.1439 - acc: 0.9456 - val_loss: 0.4593 - val_acc: 0.8944\n",
            "\n",
            "Epoch 00030: val_loss did not improve from 0.32872\n"
          ],
          "name": "stdout"
        },
        {
          "output_type": "execute_result",
          "data": {
            "text/plain": [
              "<keras.callbacks.History at 0x7fc961f6b050>"
            ]
          },
          "metadata": {},
          "execution_count": 31
        }
      ]
    },
    {
      "cell_type": "code",
      "metadata": {
        "colab": {
          "base_uri": "https://localhost:8080/"
        },
        "id": "dcZIvtmsY9Ov",
        "outputId": "0763870c-e75b-42ac-bece-4dcee0c09d0d"
      },
      "source": [
        "model.load_weights(checkpoint_path)"
      ],
      "execution_count": 32,
      "outputs": [
        {
          "output_type": "execute_result",
          "data": {
            "text/plain": [
              "<tensorflow.python.training.tracking.util.CheckpointLoadStatus at 0x7fc961da69d0>"
            ]
          },
          "metadata": {},
          "execution_count": 32
        }
      ]
    },
    {
      "cell_type": "code",
      "metadata": {
        "colab": {
          "base_uri": "https://localhost:8080/",
          "height": 232
        },
        "id": "Pn2_mx2jVs0Z",
        "outputId": "42580c8e-db2b-40e8-a1eb-78b82a9a6274"
      },
      "source": [
        "# Note that you'll need to save your model as a .h5 like this\n",
        "# This .h5 will be uploaded to the testing infrastructure\n",
        "# and a score will be returned to you\n",
        "if __name__ == '__main__':\n",
        "    model = solution_model()\n",
        "    model.save(\"TF2-fashion-mnist.h5\")\n"
      ],
      "execution_count": 33,
      "outputs": [
        {
          "output_type": "error",
          "ename": "NameError",
          "evalue": "ignored",
          "traceback": [
            "\u001b[0;31m---------------------------------------------------------------------------\u001b[0m",
            "\u001b[0;31mNameError\u001b[0m                                 Traceback (most recent call last)",
            "\u001b[0;32m<ipython-input-33-d0750a7e2196>\u001b[0m in \u001b[0;36m<module>\u001b[0;34m()\u001b[0m\n\u001b[1;32m      3\u001b[0m \u001b[0;31m# and a score will be returned to you\u001b[0m\u001b[0;34m\u001b[0m\u001b[0;34m\u001b[0m\u001b[0;34m\u001b[0m\u001b[0m\n\u001b[1;32m      4\u001b[0m \u001b[0;32mif\u001b[0m \u001b[0m__name__\u001b[0m \u001b[0;34m==\u001b[0m \u001b[0;34m'__main__'\u001b[0m\u001b[0;34m:\u001b[0m\u001b[0;34m\u001b[0m\u001b[0;34m\u001b[0m\u001b[0m\n\u001b[0;32m----> 5\u001b[0;31m     \u001b[0mmodel\u001b[0m \u001b[0;34m=\u001b[0m \u001b[0msolution_model\u001b[0m\u001b[0;34m(\u001b[0m\u001b[0;34m)\u001b[0m\u001b[0;34m\u001b[0m\u001b[0;34m\u001b[0m\u001b[0m\n\u001b[0m\u001b[1;32m      6\u001b[0m     \u001b[0mmodel\u001b[0m\u001b[0;34m.\u001b[0m\u001b[0msave\u001b[0m\u001b[0;34m(\u001b[0m\u001b[0;34m\"TF2-fashion-mnist.h5\"\u001b[0m\u001b[0;34m)\u001b[0m\u001b[0;34m\u001b[0m\u001b[0;34m\u001b[0m\u001b[0m\n",
            "\u001b[0;31mNameError\u001b[0m: name 'solution_model' is not defined"
          ]
        }
      ]
    },
    {
      "cell_type": "code",
      "metadata": {
        "id": "KciwzWXMZOHb"
      },
      "source": [
        ""
      ],
      "execution_count": null,
      "outputs": []
    }
  ]
}